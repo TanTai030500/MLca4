{
  "nbformat": 4,
  "nbformat_minor": 0,
  "metadata": {
    "colab": {
      "provenance": [],
      "include_colab_link": true
    },
    "kernelspec": {
      "name": "python3",
      "display_name": "Python 3"
    },
    "language_info": {
      "name": "python"
    }
  },
  "cells": [
    {
      "cell_type": "markdown",
      "metadata": {
        "id": "view-in-github",
        "colab_type": "text"
      },
      "source": [
        "<a href=\"https://colab.research.google.com/github/TanTai030500/MLca4/blob/main/Lab_5_20130391_NguyenTanTai.ipynb\" target=\"_parent\"><img src=\"https://colab.research.google.com/assets/colab-badge.svg\" alt=\"Open In Colab\"/></a>"
      ]
    },
    {
      "cell_type": "markdown",
      "source": [
        "# This lab is to deal with **SVM** to classification tasks and compare its performance with other competitive algorithms. In general, **SVM** is one of the most popular and widely used supervised machine learning algorithms.\n",
        "\n",
        "*   **Deadline: 23:59, 17/03/2023**\n",
        "\n"
      ],
      "metadata": {
        "id": "LMzehe0sy5wr"
      }
    },
    {
      "cell_type": "markdown",
      "source": [
        "# Import libraries"
      ],
      "metadata": {
        "id": "H4nJmxp9zGX4"
      }
    },
    {
      "cell_type": "code",
      "execution_count": null,
      "metadata": {
        "id": "DoVWQ8AEyc-C"
      },
      "outputs": [],
      "source": []
    },
    {
      "cell_type": "markdown",
      "source": [
        "#Task 1. \n",
        "For breast cancer dataset (https://tinyurl.com/3vme8hr3) which could be loaded from datasets in sklearn as follows:\n",
        "\n",
        "```\n",
        "#Import scikit-learn dataset library\n",
        "from sklearn import datasets\n",
        "\n",
        "#Load dataset\n",
        "cancer = datasets.load_breast_cancer()\n",
        "```\n",
        "\n",
        "*   1.1.\tApply SVM algorithm to above dataset using linear kernel.\n",
        "*   1.2.\tCompare the obtained results with other competitive algorithms (Logistic Regression, Decision Tree, kNN) based on metrics: accuracy, precision, recall, f1 measures.\n",
        "\n"
      ],
      "metadata": {
        "id": "kNv07ARGzOUm"
      }
    },
    {
      "cell_type": "code",
      "source": [
        "#import lib\n",
        "from sklearn import datasets\n",
        "from sklearn.svm import SVC\n",
        "from sklearn.model_selection import train_test_split\n",
        "from sklearn import metrics\n",
        "from sklearn.preprocessing import StandardScaler\n",
        "\n",
        "from sklearn.linear_model import LogisticRegression\n",
        "from sklearn.neighbors import KNeighborsClassifier\n",
        "from sklearn.tree import DecisionTreeClassifier\n",
        "\n",
        "from prettytable import PrettyTable\n",
        "\n",
        "import pandas as pd"
      ],
      "metadata": {
        "id": "U2pJqdr3GDfd"
      },
      "execution_count": 1,
      "outputs": []
    },
    {
      "cell_type": "code",
      "source": [
        "cancer = datasets.load_breast_cancer()\n",
        "\n",
        "X = cancer.data\n",
        "y = cancer.target\n",
        "\n",
        "X_train, X_test, y_train, y_test = train_test_split(X, y, test_size=0.2, random_state=42)\n",
        "\n",
        "svc = SVC(kernel='linear')\n",
        "\n",
        "svc.fit(X_train, y_train)\n",
        "\n",
        "y_pred = svc.predict(X_test)\n",
        "\n",
        "accuracy_kernel =  round(metrics.accuracy_score(y_test, y_pred),4)\n",
        "precision_kernel =  round(metrics.precision_score(y_test, y_pred),4)\n",
        "recall_kernel =  round(metrics.recall_score(y_test, y_pred),4)\n",
        "f1_kernel =  round(metrics.f1_score(y_test, y_pred),4)\n",
        "\n",
        "print(metrics.classification_report(y_test, y_pred))\n",
        "\n",
        "\n",
        "lgt = LogisticRegression(random_state = 0) \n",
        "lgt.fit(X_train, y_train)\n",
        "y_pred_lgt = lgt.predict(X_test)\n",
        "\n",
        "accuracy_lgt =  round(metrics.accuracy_score(y_test, y_pred_lgt),4)\n",
        "precision_lgt =  round(metrics.precision_score(y_test, y_pred_lgt),4)\n",
        "recall_lgt =  round(metrics.recall_score(y_test, y_pred_lgt),4)\n",
        "f1_lgt =  round(metrics.f1_score(y_test, y_pred_lgt),4)\n",
        "\n",
        "\n",
        "knn = KNeighborsClassifier(n_neighbors=5)\n",
        "knn.fit(X_train, y_train)\n",
        "y_pred_knn = knn.predict(X_test)\n",
        "\n",
        "accuracy_knn =  round(metrics.accuracy_score(y_test, y_pred_knn),4)\n",
        "precision_knn =  round(metrics.precision_score(y_test, y_pred_knn),4)\n",
        "recall_knn =  round(metrics.recall_score(y_test, y_pred_knn),4)\n",
        "f1_knn =  round(metrics.f1_score(y_test, y_pred_knn),4)\n",
        "\n",
        "\n",
        "dt = DecisionTreeClassifier(random_state=42)\n",
        "dt.fit(X_train, y_train)\n",
        "y_pred_dt = dt.predict(X_test)\n",
        "\n",
        "accuracy_dt = round(metrics.accuracy_score(y_test, y_pred_dt),4)\n",
        "precision_dt =  round(metrics.precision_score(y_test, y_pred_dt),4)\n",
        "recall_dt =  round(metrics.recall_score(y_test, y_pred_dt),4)\n",
        "f1_dt =  round(metrics.f1_score(y_test, y_pred_dt),4)\n",
        "\n",
        "\n",
        "table = PrettyTable(['Thuật toán','Acc','Pre','Recall','F1'])\n",
        "table.add_row(['Kernel', accuracy_kernel, precision_kernel, recall_kernel, f1_kernel])\n",
        "table.add_row(['Logistic', accuracy_lgt, precision_lgt, recall_lgt, f1_lgt])\n",
        "table.add_row(['kNN', accuracy_knn, precision_knn, recall_knn, f1_knn])\n",
        "table.add_row(['Decision Tree', accuracy_dt, precision_dt, recall_dt, f1_dt])\n",
        "print(table)"
      ],
      "metadata": {
        "id": "sOsg77IBzEyo",
        "colab": {
          "base_uri": "https://localhost:8080/"
        },
        "outputId": "f2ff328a-4e05-4447-f97a-6b624580af9e"
      },
      "execution_count": 2,
      "outputs": [
        {
          "output_type": "stream",
          "name": "stdout",
          "text": [
            "              precision    recall  f1-score   support\n",
            "\n",
            "           0       0.97      0.91      0.94        43\n",
            "           1       0.95      0.99      0.97        71\n",
            "\n",
            "    accuracy                           0.96       114\n",
            "   macro avg       0.96      0.95      0.95       114\n",
            "weighted avg       0.96      0.96      0.96       114\n",
            "\n"
          ]
        },
        {
          "output_type": "stream",
          "name": "stderr",
          "text": [
            "/usr/local/lib/python3.9/dist-packages/sklearn/linear_model/_logistic.py:458: ConvergenceWarning: lbfgs failed to converge (status=1):\n",
            "STOP: TOTAL NO. of ITERATIONS REACHED LIMIT.\n",
            "\n",
            "Increase the number of iterations (max_iter) or scale the data as shown in:\n",
            "    https://scikit-learn.org/stable/modules/preprocessing.html\n",
            "Please also refer to the documentation for alternative solver options:\n",
            "    https://scikit-learn.org/stable/modules/linear_model.html#logistic-regression\n",
            "  n_iter_i = _check_optimize_result(\n"
          ]
        },
        {
          "output_type": "stream",
          "name": "stdout",
          "text": [
            "+---------------+--------+--------+--------+--------+\n",
            "|   Thuật toán  |  Acc   |  Pre   | Recall |   F1   |\n",
            "+---------------+--------+--------+--------+--------+\n",
            "|     Kernel    | 0.9561 | 0.9459 | 0.9859 | 0.9655 |\n",
            "|    Logistic   | 0.9649 | 0.9589 | 0.9859 | 0.9722 |\n",
            "|      kNN      | 0.9561 | 0.9342 |  1.0   | 0.966  |\n",
            "| Decision Tree | 0.9474 | 0.9577 | 0.9577 | 0.9577 |\n",
            "+---------------+--------+--------+--------+--------+\n"
          ]
        }
      ]
    },
    {
      "cell_type": "markdown",
      "source": [
        "#Task 2. \n",
        "\n",
        "*   1.1.\tPerform SVM algorithm to **Iris dataset** using **linear kernel**.\n",
        "*   1.2.\tCompare the obtained results in 1.1 with SVM using other kernels (**Polynomial Kernel, Gaussian Kernel, Sigmoid Kernel, Radial Basis Function Kernel**). Some metrics could be used: accuracy, precision, recall, f1 measures\n",
        "\n",
        "\n",
        "\n"
      ],
      "metadata": {
        "id": "S43IoUT-0OQq"
      }
    },
    {
      "cell_type": "code",
      "source": [
        "iris = datasets.load_iris()\n",
        "X = iris.data\n",
        "y = iris.target\n",
        "X_train, X_test, y_train, y_test = train_test_split(X, y, test_size=0.3, random_state=0)\n",
        "\n",
        "svc_linear = SVC(kernel='linear', random_state=0)\n",
        "svc_linear.fit(X_train, y_train)\n",
        "y_pred_linear = svc_linear.predict(X_test)\n",
        "\n",
        "accuracy_linear = round(metrics.accuracy_score(y_test, y_pred_linear),4)\n",
        "precision_linear =  round(metrics.precision_score(y_test, y_pred_linear, average='macro'),4)\n",
        "recall_linear =  round(metrics.recall_score(y_test, y_pred_linear, average='macro'),4)\n",
        "f1_linear =  round(metrics.f1_score(y_test, y_pred_linear, average='macro'),4)\n",
        "\n",
        "svc_poly = SVC(kernel='poly', degree=3)\n",
        "svc_poly.fit(X_train, y_train)\n",
        "y_pred_poly = svc_poly.predict(X_test)\n",
        "accuracy_poly = round(metrics.accuracy_score(y_test, y_pred_poly),4)\n",
        "precision_poly =  round(metrics.precision_score(y_test, y_pred_poly, average='macro'),4)\n",
        "recall_poly =  round(metrics.recall_score(y_test, y_pred_poly, average='macro'),4)\n",
        "f1_poly =  round(metrics.f1_score(y_test, y_pred_poly, average='macro'),4)\n",
        "\n",
        "\n",
        "svm_sigmoid_clf = SVC(kernel='sigmoid')\n",
        "svm_sigmoid_clf.fit(X_train, y_train)\n",
        "y_pred_sigmoid = svm_sigmoid_clf.predict(X_test)\n",
        "accuracy_sigmoid = round(metrics.accuracy_score(y_test, y_pred_sigmoid),4)\n",
        "precision_sigmoid =  round(metrics.precision_score(y_test, y_pred_sigmoid, average='macro'),4)\n",
        "recall_sigmoid =  round(metrics.recall_score(y_test, y_pred_sigmoid, average='macro'),4)\n",
        "f1_sigmoid =  round(metrics.f1_score(y_test, y_pred_sigmoid, average='macro'),4)\n",
        "\n",
        "\n",
        "svm_radial = SVC(kernel='rbf')\n",
        "svm_radial.fit(X_train, y_train)\n",
        "y_pred_radial = svm_radial.predict(X_test)\n",
        "accuracy_radial = round(metrics.accuracy_score(y_test, y_pred_radial),4)\n",
        "precision_radial =  round(metrics.precision_score(y_test, y_pred_radial, average='macro'),4)\n",
        "recall_radial =  round(metrics.recall_score(y_test, y_pred_radial, average='macro'),4)\n",
        "f1_radial =  round(metrics.f1_score(y_test, y_pred_radial, average='macro'),4)\n",
        "\n",
        "svm_gauss = SVC(kernel='rbf', gamma=0.5)\n",
        "svm_gauss.fit(X_train, y_train)\n",
        "y_pred_gauss = svm_gauss.predict(X_test)\n",
        "accuracy_gauss = round(metrics.accuracy_score(y_test, y_pred_gauss),4)\n",
        "precision_gauss =  round(metrics.precision_score(y_test, y_pred_gauss, average='macro'),4)\n",
        "recall_gauss =  round(metrics.recall_score(y_test, y_pred_gauss, average='macro'),4)\n",
        "f1_gauss =  round(metrics.f1_score(y_test, y_pred_gauss, average='macro'),4)\n",
        "\n",
        "\n",
        "table = PrettyTable(['Kernel','Acc','Pre','Recall','F1'])\n",
        "table.add_row(['Linear', accuracy_linear, precision_linear, recall_linear, f1_linear])\n",
        "table.add_row(['Poly', accuracy_poly, precision_poly, recall_poly, f1_poly])\n",
        "table.add_row(['Sigmoid', accuracy_sigmoid, precision_sigmoid, recall_sigmoid, f1_sigmoid])\n",
        "table.add_row(['Rbf', accuracy_radial, precision_radial, recall_radial, f1_radial])\n",
        "table.add_row(['Gauss', accuracy_gauss, precision_gauss, recall_gauss, f1_gauss])\n",
        "\n",
        "print(table)"
      ],
      "metadata": {
        "id": "_xhPpF5b033h",
        "colab": {
          "base_uri": "https://localhost:8080/"
        },
        "outputId": "e0d2be43-7c4a-467a-83f3-b72e85454257"
      },
      "execution_count": 3,
      "outputs": [
        {
          "output_type": "stream",
          "name": "stdout",
          "text": [
            "+---------+--------+--------+--------+-------+\n",
            "|  Kernel |  Acc   |  Pre   | Recall |   F1  |\n",
            "+---------+--------+--------+--------+-------+\n",
            "|  Linear | 0.9778 | 0.9722 | 0.9815 | 0.976 |\n",
            "|   Poly  | 0.9778 | 0.9722 | 0.9815 | 0.976 |\n",
            "| Sigmoid | 0.2444 | 0.0815 | 0.3333 | 0.131 |\n",
            "|   Rbf   | 0.9778 | 0.9722 | 0.9815 | 0.976 |\n",
            "|  Gauss  | 0.9778 | 0.9722 | 0.9815 | 0.976 |\n",
            "+---------+--------+--------+--------+-------+\n"
          ]
        },
        {
          "output_type": "stream",
          "name": "stderr",
          "text": [
            "/usr/local/lib/python3.9/dist-packages/sklearn/metrics/_classification.py:1344: UndefinedMetricWarning: Precision is ill-defined and being set to 0.0 in labels with no predicted samples. Use `zero_division` parameter to control this behavior.\n",
            "  _warn_prf(average, modifier, msg_start, len(result))\n"
          ]
        }
      ]
    },
    {
      "cell_type": "markdown",
      "source": [
        "#Task 3. \n",
        "Compare the performance of selected classification algorithms (Decision Tree, kNN, Logistic Regression) and SVM (using different kernels) with mnist dataset based on accuracy, precision, recall, f1 measures.\n"
      ],
      "metadata": {
        "id": "b52OPWPD2afi"
      }
    },
    {
      "cell_type": "code",
      "source": [
        "mnist = datasets.load_digits()\n",
        "X = mnist.data\n",
        "y = mnist.target\n",
        "X_train, X_test, y_train, y_test = train_test_split(X, y, test_size=0.3, random_state=0)\n",
        "\n",
        "lgt = LogisticRegression(random_state = 0) \n",
        "lgt.fit(X_train, y_train)\n",
        "y_pred_lgt = lgt.predict(X_test)\n",
        "\n",
        "accuracy_lgt =  round(metrics.accuracy_score(y_test, y_pred_lgt),4)\n",
        "precision_lgt =  round(metrics.precision_score(y_test, y_pred_lgt, average='macro'),4)\n",
        "recall_lgt =  round(metrics.recall_score(y_test, y_pred_lgt,average='macro'),4)\n",
        "f1_lgt =  round(metrics.f1_score(y_test, y_pred_lgt,average='macro'),4)\n",
        "\n",
        "knn = KNeighborsClassifier(n_neighbors=5)\n",
        "knn.fit(X_train, y_train)\n",
        "y_pred_knn = knn.predict(X_test)\n",
        "\n",
        "accuracy_knn =  round(metrics.accuracy_score(y_test, y_pred_knn),4)\n",
        "precision_knn =  round(metrics.precision_score(y_test, y_pred_knn, average='macro'),4)\n",
        "recall_knn =  round(metrics.recall_score(y_test, y_pred_knn, average='macro'),4)\n",
        "f1_knn =  round(metrics.f1_score(y_test, y_pred_knn, average='macro'),4)\n",
        "\n",
        "#Decision tree\n",
        "dt = DecisionTreeClassifier(random_state=42)\n",
        "dt.fit(X_train, y_train)\n",
        "y_pred_dt = dt.predict(X_test)\n",
        "\n",
        "accuracy_dt = round(metrics.accuracy_score(y_test, y_pred_dt),4)\n",
        "precision_dt =  round(metrics.precision_score(y_test, y_pred_dt,average='macro'),4)\n",
        "recall_dt =  round(metrics.recall_score(y_test, y_pred_dt,average='macro'),4)\n",
        "f1_dt =  round(metrics.f1_score(y_test, y_pred_dt,average='macro'),4)\n",
        "\n",
        "\n",
        "svc_linear = SVC(kernel='linear', random_state=0)\n",
        "svc_linear.fit(X_train, y_train)\n",
        "y_pred_linear = svc_linear.predict(X_test)\n",
        "\n",
        "accuracy_linear = round(metrics.accuracy_score(y_test, y_pred_linear),4)\n",
        "precision_linear =  round(metrics.precision_score(y_test, y_pred_linear, average='macro'),4)\n",
        "recall_linear =  round(metrics.recall_score(y_test, y_pred_linear, average='macro'),4)\n",
        "f1_linear =  round(metrics.f1_score(y_test, y_pred_linear, average='macro'),4)\n",
        "\n",
        "svc_poly = SVC(kernel='poly', degree=3)\n",
        "svc_poly.fit(X_train, y_train)\n",
        "y_pred_poly = svc_poly.predict(X_test)\n",
        "accuracy_poly = round(metrics.accuracy_score(y_test, y_pred_poly),4)\n",
        "precision_poly =  round(metrics.precision_score(y_test, y_pred_poly, average='macro'),4)\n",
        "recall_poly =  round(metrics.recall_score(y_test, y_pred_poly, average='macro'),4)\n",
        "f1_poly =  round(metrics.f1_score(y_test, y_pred_poly, average='macro'),4)\n",
        "\n",
        "\n",
        "svm_sigmoid_clf = SVC(kernel='sigmoid')\n",
        "svm_sigmoid_clf.fit(X_train, y_train)\n",
        "y_pred_sigmoid = svm_sigmoid_clf.predict(X_test)\n",
        "accuracy_sigmoid = round(metrics.accuracy_score(y_test, y_pred_sigmoid),4)\n",
        "precision_sigmoid =  round(metrics.precision_score(y_test, y_pred_sigmoid, average='macro'),4)\n",
        "recall_sigmoid =  round(metrics.recall_score(y_test, y_pred_sigmoid, average='macro'),4)\n",
        "f1_sigmoid =  round(metrics.f1_score(y_test, y_pred_sigmoid, average='macro'),4)\n",
        "\n",
        "\n",
        "svm_radial = SVC(kernel='rbf')\n",
        "svm_radial.fit(X_train, y_train)\n",
        "y_pred_radial = svm_radial.predict(X_test)\n",
        "accuracy_radial = round(metrics.accuracy_score(y_test, y_pred_radial),4)\n",
        "precision_radial =  round(metrics.precision_score(y_test, y_pred_radial, average='macro'),4)\n",
        "recall_radial =  round(metrics.recall_score(y_test, y_pred_radial, average='macro'),4)\n",
        "f1_radial =  round(metrics.f1_score(y_test, y_pred_radial, average='macro'),4)\n",
        "\n",
        "svm_gauss = SVC(kernel='rbf', gamma=0.5)\n",
        "svm_gauss.fit(X_train, y_train)\n",
        "y_pred_gauss = svm_gauss.predict(X_test)\n",
        "accuracy_gauss = round(metrics.accuracy_score(y_test, y_pred_gauss),4)\n",
        "precision_gauss =  round(metrics.precision_score(y_test, y_pred_gauss, average='macro'),4)\n",
        "recall_gauss =  round(metrics.recall_score(y_test, y_pred_gauss, average='macro'),4)\n",
        "f1_gauss =  round(metrics.f1_score(y_test, y_pred_gauss, average='macro'),4)\n",
        "\n",
        "table = PrettyTable(['Kernel','Acc','Pre','Recall','F1'])\n",
        "\n",
        "table.add_row(['Logictic', accuracy_lgt, precision_lgt, recall_lgt, f1_lgt])\n",
        "table.add_row(['kNN', accuracy_knn, precision_knn, recall_knn, f1_knn])\n",
        "table.add_row(['Decision', accuracy_dt, precision_dt, recall_dt, f1_dt])\n",
        "table.add_row(['kernel Linear', accuracy_linear, precision_linear, recall_linear, f1_linear])\n",
        "table.add_row(['kernel Poly', accuracy_poly, precision_poly, recall_poly, f1_poly])\n",
        "table.add_row(['kernel Sigmoid', accuracy_sigmoid, precision_sigmoid, recall_sigmoid, f1_sigmoid])\n",
        "table.add_row(['kernel Rbf', accuracy_radial, precision_radial, recall_radial, f1_radial])\n",
        "table.add_row(['kernel Gauss', accuracy_gauss, precision_gauss, recall_gauss, f1_gauss])\n",
        "\n",
        "print(table)"
      ],
      "metadata": {
        "colab": {
          "base_uri": "https://localhost:8080/"
        },
        "id": "eNk-x3-Mgv_A",
        "outputId": "3cfd18aa-d4c5-4b09-d1db-59f2193bb0d9"
      },
      "execution_count": 4,
      "outputs": [
        {
          "output_type": "stream",
          "name": "stderr",
          "text": [
            "/usr/local/lib/python3.9/dist-packages/sklearn/linear_model/_logistic.py:458: ConvergenceWarning: lbfgs failed to converge (status=1):\n",
            "STOP: TOTAL NO. of ITERATIONS REACHED LIMIT.\n",
            "\n",
            "Increase the number of iterations (max_iter) or scale the data as shown in:\n",
            "    https://scikit-learn.org/stable/modules/preprocessing.html\n",
            "Please also refer to the documentation for alternative solver options:\n",
            "    https://scikit-learn.org/stable/modules/linear_model.html#logistic-regression\n",
            "  n_iter_i = _check_optimize_result(\n"
          ]
        },
        {
          "output_type": "stream",
          "name": "stdout",
          "text": [
            "+----------------+--------+--------+--------+--------+\n",
            "|     Kernel     |  Acc   |  Pre   | Recall |   F1   |\n",
            "+----------------+--------+--------+--------+--------+\n",
            "|    Logictic    | 0.9537 | 0.9561 | 0.9553 | 0.9552 |\n",
            "|      kNN       | 0.9815 | 0.982  | 0.9821 | 0.9819 |\n",
            "|    Decision    | 0.837  | 0.842  | 0.8401 | 0.8396 |\n",
            "| kernel Linear  | 0.9741 | 0.9745 | 0.9757 | 0.9748 |\n",
            "|  kernel Poly   | 0.9889 | 0.9892 | 0.9896 | 0.9893 |\n",
            "| kernel Sigmoid | 0.9019 | 0.9071 | 0.9032 | 0.9036 |\n",
            "|   kernel Rbf   | 0.9907 | 0.9913 | 0.9912 | 0.9912 |\n",
            "|  kernel Gauss  | 0.0889 | 0.0089 |  0.1   | 0.0163 |\n",
            "+----------------+--------+--------+--------+--------+\n"
          ]
        },
        {
          "output_type": "stream",
          "name": "stderr",
          "text": [
            "/usr/local/lib/python3.9/dist-packages/sklearn/metrics/_classification.py:1344: UndefinedMetricWarning: Precision is ill-defined and being set to 0.0 in labels with no predicted samples. Use `zero_division` parameter to control this behavior.\n",
            "  _warn_prf(average, modifier, msg_start, len(result))\n"
          ]
        }
      ]
    },
    {
      "cell_type": "markdown",
      "source": [
        "#Task 4. \n",
        "Compare the performance of selected classification algorithms (Decision Tree, kNN, Logistic Regression) and SVM (using different kernels) with **credit card dataset** based on accuracy, precision, recall, f1 measures.\n",
        "\n",
        "*   Give some comments on the obtained results\n",
        "*   Identify issues with dataset, and propose the solutions to these issues\n",
        "\n"
      ],
      "metadata": {
        "id": "Z5pp7_h-aP2u"
      }
    },
    {
      "cell_type": "code",
      "source": [
        "from google.colab import drive\n",
        "drive.mount('/content/gdrive')\n",
        "%cd '/content/gdrive/MyDrive/MLca4'"
      ],
      "metadata": {
        "id": "Rw_-8FIf2KxW",
        "colab": {
          "base_uri": "https://localhost:8080/"
        },
        "outputId": "d50d5ea4-731d-455a-8e42-f1d4f73c54d8"
      },
      "execution_count": 5,
      "outputs": [
        {
          "output_type": "stream",
          "name": "stdout",
          "text": [
            "Mounted at /content/gdrive\n",
            "/content/gdrive/MyDrive/MLca4\n"
          ]
        }
      ]
    },
    {
      "cell_type": "code",
      "source": [
        "dataset = pd.read_csv('creditcard.csv')\n",
        "X = dataset.iloc[:, 1:-1]\n",
        "Y = dataset.iloc[:, -1]   \n",
        "X_train, X_test, Y_train, Y_test = train_test_split(X, Y, train_size=0.05, test_size=0.05, shuffle=True)\n",
        "\n",
        "lgt = LogisticRegression(random_state = 0) \n",
        "lgt.fit(X_train, Y_train)\n",
        "y_pred_lgt = lgt.predict(X_test)\n",
        "\n",
        "accuracy_lgt =  round(metrics.accuracy_score(Y_test, y_pred_lgt),4)\n",
        "precision_lgt =  round(metrics.precision_score(Y_test, y_pred_lgt, average='macro'),4)\n",
        "recall_lgt =  round(metrics.recall_score(Y_test, y_pred_lgt,average='macro'),4)\n",
        "f1_lgt =  round(metrics.f1_score(Y_test, y_pred_lgt,average='macro'),4)\n",
        "\n",
        "#kNN\n",
        "knn = KNeighborsClassifier(n_neighbors=5)\n",
        "knn.fit(X_train, Y_train)\n",
        "y_pred_knn = knn.predict(X_test)\n",
        "\n",
        "accuracy_knn =  round(metrics.accuracy_score(Y_test, y_pred_knn),4)\n",
        "precision_knn =  round(metrics.precision_score(Y_test, y_pred_knn, average='macro'),4)\n",
        "recall_knn =  round(metrics.recall_score(Y_test, y_pred_knn, average='macro'),4)\n",
        "f1_knn =  round(metrics.f1_score(Y_test, y_pred_knn, average='macro'),4)\n",
        "\n",
        "\n",
        "dt = DecisionTreeClassifier(random_state=42)\n",
        "dt.fit(X_train, Y_train)\n",
        "y_pred_dt = dt.predict(X_test)\n",
        "\n",
        "accuracy_dt = round(metrics.accuracy_score(Y_test, y_pred_dt),4)\n",
        "precision_dt =  round(metrics.precision_score(Y_test, y_pred_dt,average='macro'),4)\n",
        "recall_dt =  round(metrics.recall_score(Y_test, y_pred_dt,average='macro'),4)\n",
        "f1_dt =  round(metrics.f1_score(Y_test, y_pred_dt,average='macro'),4)\n",
        "\n",
        "\n",
        "\n",
        "svc_linear = SVC(kernel='linear', random_state=0)\n",
        "svc_linear.fit(X_train, Y_train)\n",
        "y_pred_linear = svc_linear.predict(X_test)\n",
        "\n",
        "accuracy_linear = round(metrics.accuracy_score(Y_test, y_pred_linear),4)\n",
        "precision_linear =  round(metrics.precision_score(Y_test, y_pred_linear, average='macro'),4)\n",
        "recall_linear =  round(metrics.recall_score(Y_test, y_pred_linear, average='macro'),4)\n",
        "f1_linear =  round(metrics.f1_score(Y_test, y_pred_linear, average='macro'),4)\n",
        "\n",
        "\n",
        "svc_poly = SVC(kernel='poly', degree=3)\n",
        "svc_poly.fit(X_train, Y_train)\n",
        "y_pred_poly = svc_poly.predict(X_test)\n",
        "accuracy_poly = round(metrics.accuracy_score(Y_test, y_pred_poly),4)\n",
        "precision_poly =  round(metrics.precision_score(Y_test, y_pred_poly, average='macro'),4)\n",
        "recall_poly =  round(metrics.recall_score(Y_test, y_pred_poly, average='macro'),4)\n",
        "f1_poly =  round(metrics.f1_score(Y_test, y_pred_poly, average='macro'),4)\n",
        "\n",
        "\n",
        "\n",
        "svm_sigmoid_clf = SVC(kernel='sigmoid')\n",
        "svm_sigmoid_clf.fit(X_train, Y_train)\n",
        "y_pred_sigmoid = svm_sigmoid_clf.predict(X_test)\n",
        "accuracy_sigmoid = round(metrics.accuracy_score(Y_test, y_pred_sigmoid),4)\n",
        "precision_sigmoid =  round(metrics.precision_score(Y_test, y_pred_sigmoid, average='macro'),4)\n",
        "recall_sigmoid =  round(metrics.recall_score(Y_test, y_pred_sigmoid, average='macro'),4)\n",
        "f1_sigmoid =  round(metrics.f1_score(Y_test, y_pred_sigmoid, average='macro'),4)\n",
        "\n",
        "\n",
        "\n",
        "svm_radial = SVC(kernel='rbf')\n",
        "svm_radial.fit(X_train, Y_train)\n",
        "y_pred_radial = svm_radial.predict(X_test)\n",
        "accuracy_radial = round(metrics.accuracy_score(Y_test, y_pred_radial),4)\n",
        "precision_radial =  round(metrics.precision_score(Y_test, y_pred_radial, average='macro'),4)\n",
        "recall_radial =  round(metrics.recall_score(Y_test, y_pred_radial, average='macro'),4)\n",
        "f1_radial =  round(metrics.f1_score(Y_test, y_pred_radial, average='macro'),4)\n",
        "\n",
        "\n",
        "svm_gauss = SVC(kernel='rbf', gamma=0.5)\n",
        "svm_gauss.fit(X_train, Y_train)\n",
        "y_pred_gauss = svm_gauss.predict(X_test)\n",
        "accuracy_gauss = round(metrics.accuracy_score(Y_test, y_pred_gauss),4)\n",
        "precision_gauss =  round(metrics.precision_score(Y_test, y_pred_gauss, average='macro'),4)\n",
        "recall_gauss =  round(metrics.recall_score(Y_test, y_pred_gauss, average='macro'),4)\n",
        "f1_gauss =  round(metrics.f1_score(Y_test, y_pred_gauss, average='macro'),4)\n",
        "\n",
        "\n",
        "table = PrettyTable(['Kernel','Acc','Pre','Recall','F1'])\n",
        "\n",
        "table.add_row(['Logictic', accuracy_lgt, precision_lgt, recall_lgt, f1_lgt])\n",
        "table.add_row(['kNN', accuracy_knn, precision_knn, recall_knn, f1_knn])\n",
        "table.add_row(['Decision', accuracy_dt, precision_dt, recall_dt, f1_dt])\n",
        "table.add_row(['kernel Linear', accuracy_linear, precision_linear, recall_linear, f1_linear])\n",
        "table.add_row(['kernel Poly', accuracy_poly, precision_poly, recall_poly, f1_poly])\n",
        "table.add_row(['kernel Sigmoid', accuracy_sigmoid, precision_sigmoid, recall_sigmoid, f1_sigmoid])\n",
        "table.add_row(['kernel Rbf', accuracy_radial, precision_radial, recall_radial, f1_radial])\n",
        "table.add_row(['kernel Gauss', accuracy_gauss, precision_gauss, recall_gauss, f1_gauss])\n",
        "\n",
        "print(table)\n"
      ],
      "metadata": {
        "colab": {
          "base_uri": "https://localhost:8080/"
        },
        "id": "KvfiBs08kt07",
        "outputId": "1fd0ba7d-985b-45c8-a01c-71074303784c"
      },
      "execution_count": 6,
      "outputs": [
        {
          "output_type": "stream",
          "name": "stderr",
          "text": [
            "/usr/local/lib/python3.9/dist-packages/sklearn/linear_model/_logistic.py:458: ConvergenceWarning: lbfgs failed to converge (status=1):\n",
            "STOP: TOTAL NO. of ITERATIONS REACHED LIMIT.\n",
            "\n",
            "Increase the number of iterations (max_iter) or scale the data as shown in:\n",
            "    https://scikit-learn.org/stable/modules/preprocessing.html\n",
            "Please also refer to the documentation for alternative solver options:\n",
            "    https://scikit-learn.org/stable/modules/linear_model.html#logistic-regression\n",
            "  n_iter_i = _check_optimize_result(\n",
            "/usr/local/lib/python3.9/dist-packages/sklearn/metrics/_classification.py:1344: UndefinedMetricWarning: Precision is ill-defined and being set to 0.0 in labels with no predicted samples. Use `zero_division` parameter to control this behavior.\n",
            "  _warn_prf(average, modifier, msg_start, len(result))\n",
            "/usr/local/lib/python3.9/dist-packages/sklearn/metrics/_classification.py:1344: UndefinedMetricWarning: Precision is ill-defined and being set to 0.0 in labels with no predicted samples. Use `zero_division` parameter to control this behavior.\n",
            "  _warn_prf(average, modifier, msg_start, len(result))\n",
            "/usr/local/lib/python3.9/dist-packages/sklearn/metrics/_classification.py:1344: UndefinedMetricWarning: Precision is ill-defined and being set to 0.0 in labels with no predicted samples. Use `zero_division` parameter to control this behavior.\n",
            "  _warn_prf(average, modifier, msg_start, len(result))\n"
          ]
        },
        {
          "output_type": "stream",
          "name": "stdout",
          "text": [
            "+----------------+--------+--------+--------+--------+\n",
            "|     Kernel     |  Acc   |  Pre   | Recall |   F1   |\n",
            "+----------------+--------+--------+--------+--------+\n",
            "|    Logictic    | 0.9988 | 0.8154 | 0.7725 | 0.7924 |\n",
            "|      kNN       | 0.9987 | 0.8565 | 0.6136 | 0.6721 |\n",
            "|    Decision    | 0.9986 | 0.7705 | 0.7951 | 0.7823 |\n",
            "| kernel Linear  | 0.9992 | 0.8886 | 0.818  | 0.8498 |\n",
            "|  kernel Poly   | 0.9985 | 0.4992 |  0.5   | 0.4996 |\n",
            "| kernel Sigmoid | 0.9985 | 0.4992 |  0.5   | 0.4996 |\n",
            "|   kernel Rbf   | 0.9985 | 0.4992 |  0.5   | 0.4996 |\n",
            "|  kernel Gauss  | 0.9985 | 0.4992 |  0.5   | 0.4996 |\n",
            "+----------------+--------+--------+--------+--------+\n"
          ]
        },
        {
          "output_type": "stream",
          "name": "stderr",
          "text": [
            "/usr/local/lib/python3.9/dist-packages/sklearn/metrics/_classification.py:1344: UndefinedMetricWarning: Precision is ill-defined and being set to 0.0 in labels with no predicted samples. Use `zero_division` parameter to control this behavior.\n",
            "  _warn_prf(average, modifier, msg_start, len(result))\n"
          ]
        }
      ]
    },
    {
      "cell_type": "code",
      "source": [],
      "metadata": {
        "id": "BvKBbl37NORR"
      },
      "execution_count": null,
      "outputs": []
    },
    {
      "cell_type": "markdown",
      "source": [
        "#Finally,\n",
        "Save a copy in your Github. Remember renaming the notebook."
      ],
      "metadata": {
        "id": "Ok7RGkea_b7n"
      }
    }
  ]
}